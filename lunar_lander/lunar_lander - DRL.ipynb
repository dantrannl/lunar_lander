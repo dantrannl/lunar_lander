{
  "nbformat": 4,
  "nbformat_minor": 0,
  "metadata": {
    "colab": {
      "provenance": []
    },
    "kernelspec": {
      "name": "python3",
      "display_name": "Python 3"
    },
    "language_info": {
      "name": "python"
    }
  },
  "cells": [
    {
      "cell_type": "code",
      "execution_count": 1,
      "metadata": {
        "colab": {
          "base_uri": "https://localhost:8080/"
        },
        "id": "Qlh3OFeDtx3O",
        "outputId": "edb55dea-5cfd-4932-edef-0981815c4fc7"
      },
      "outputs": [
        {
          "output_type": "stream",
          "name": "stdout",
          "text": [
            "Requirement already satisfied: gymnasium in /usr/local/lib/python3.11/dist-packages (1.1.1)\n",
            "Requirement already satisfied: numpy>=1.21.0 in /usr/local/lib/python3.11/dist-packages (from gymnasium) (2.0.2)\n",
            "Requirement already satisfied: cloudpickle>=1.2.0 in /usr/local/lib/python3.11/dist-packages (from gymnasium) (3.1.1)\n",
            "Requirement already satisfied: typing-extensions>=4.3.0 in /usr/local/lib/python3.11/dist-packages (from gymnasium) (4.13.2)\n",
            "Requirement already satisfied: farama-notifications>=0.0.1 in /usr/local/lib/python3.11/dist-packages (from gymnasium) (0.0.4)\n",
            "Requirement already satisfied: gymnasium[accept-rom-license,atari] in /usr/local/lib/python3.11/dist-packages (1.1.1)\n",
            "\u001b[33mWARNING: gymnasium 1.1.1 does not provide the extra 'accept-rom-license'\u001b[0m\u001b[33m\n",
            "\u001b[0mRequirement already satisfied: numpy>=1.21.0 in /usr/local/lib/python3.11/dist-packages (from gymnasium[accept-rom-license,atari]) (2.0.2)\n",
            "Requirement already satisfied: cloudpickle>=1.2.0 in /usr/local/lib/python3.11/dist-packages (from gymnasium[accept-rom-license,atari]) (3.1.1)\n",
            "Requirement already satisfied: typing-extensions>=4.3.0 in /usr/local/lib/python3.11/dist-packages (from gymnasium[accept-rom-license,atari]) (4.13.2)\n",
            "Requirement already satisfied: farama-notifications>=0.0.1 in /usr/local/lib/python3.11/dist-packages (from gymnasium[accept-rom-license,atari]) (0.0.4)\n",
            "Requirement already satisfied: ale_py>=0.9 in /usr/local/lib/python3.11/dist-packages (from gymnasium[accept-rom-license,atari]) (0.10.2)\n",
            "Reading package lists... Done\n",
            "Building dependency tree... Done\n",
            "Reading state information... Done\n",
            "The following additional packages will be installed:\n",
            "  swig4.0\n",
            "Suggested packages:\n",
            "  swig-doc swig-examples swig4.0-examples swig4.0-doc\n",
            "The following NEW packages will be installed:\n",
            "  swig swig4.0\n",
            "0 upgraded, 2 newly installed, 0 to remove and 34 not upgraded.\n",
            "Need to get 1,116 kB of archives.\n",
            "After this operation, 5,542 kB of additional disk space will be used.\n",
            "Get:1 http://archive.ubuntu.com/ubuntu jammy/universe amd64 swig4.0 amd64 4.0.2-1ubuntu1 [1,110 kB]\n",
            "Get:2 http://archive.ubuntu.com/ubuntu jammy/universe amd64 swig all 4.0.2-1ubuntu1 [5,632 B]\n",
            "Fetched 1,116 kB in 1s (1,178 kB/s)\n",
            "Selecting previously unselected package swig4.0.\n",
            "(Reading database ... 126333 files and directories currently installed.)\n",
            "Preparing to unpack .../swig4.0_4.0.2-1ubuntu1_amd64.deb ...\n",
            "Unpacking swig4.0 (4.0.2-1ubuntu1) ...\n",
            "Selecting previously unselected package swig.\n",
            "Preparing to unpack .../swig_4.0.2-1ubuntu1_all.deb ...\n",
            "Unpacking swig (4.0.2-1ubuntu1) ...\n",
            "Setting up swig4.0 (4.0.2-1ubuntu1) ...\n",
            "Setting up swig (4.0.2-1ubuntu1) ...\n",
            "Processing triggers for man-db (2.10.2-1) ...\n",
            "Requirement already satisfied: gymnasium[box2d] in /usr/local/lib/python3.11/dist-packages (1.1.1)\n",
            "Requirement already satisfied: numpy>=1.21.0 in /usr/local/lib/python3.11/dist-packages (from gymnasium[box2d]) (2.0.2)\n",
            "Requirement already satisfied: cloudpickle>=1.2.0 in /usr/local/lib/python3.11/dist-packages (from gymnasium[box2d]) (3.1.1)\n",
            "Requirement already satisfied: typing-extensions>=4.3.0 in /usr/local/lib/python3.11/dist-packages (from gymnasium[box2d]) (4.13.2)\n",
            "Requirement already satisfied: farama-notifications>=0.0.1 in /usr/local/lib/python3.11/dist-packages (from gymnasium[box2d]) (0.0.4)\n",
            "Collecting box2d-py==2.3.5 (from gymnasium[box2d])\n",
            "  Downloading box2d-py-2.3.5.tar.gz (374 kB)\n",
            "\u001b[2K     \u001b[90m━━━━━━━━━━━━━━━━━━━━━━━━━━━━━━━━━━━━━━━\u001b[0m \u001b[32m374.4/374.4 kB\u001b[0m \u001b[31m5.4 MB/s\u001b[0m eta \u001b[36m0:00:00\u001b[0m\n",
            "\u001b[?25h  Preparing metadata (setup.py) ... \u001b[?25l\u001b[?25hdone\n",
            "Requirement already satisfied: pygame>=2.1.3 in /usr/local/lib/python3.11/dist-packages (from gymnasium[box2d]) (2.6.1)\n",
            "Collecting swig==4.* (from gymnasium[box2d])\n",
            "  Downloading swig-4.3.1-py3-none-manylinux_2_12_x86_64.manylinux2010_x86_64.whl.metadata (3.5 kB)\n",
            "Downloading swig-4.3.1-py3-none-manylinux_2_12_x86_64.manylinux2010_x86_64.whl (1.9 MB)\n",
            "\u001b[2K   \u001b[90m━━━━━━━━━━━━━━━━━━━━━━━━━━━━━━━━━━━━━━━━\u001b[0m \u001b[32m1.9/1.9 MB\u001b[0m \u001b[31m41.5 MB/s\u001b[0m eta \u001b[36m0:00:00\u001b[0m\n",
            "\u001b[?25hBuilding wheels for collected packages: box2d-py\n",
            "  Building wheel for box2d-py (setup.py) ... \u001b[?25l\u001b[?25hdone\n",
            "  Created wheel for box2d-py: filename=box2d_py-2.3.5-cp311-cp311-linux_x86_64.whl size=2351228 sha256=6281d59872af7a4fc3e657b84930cf7bb9385ef49f1aba84415b0edd7006a906\n",
            "  Stored in directory: /root/.cache/pip/wheels/ab/f1/0c/d56f4a2bdd12bae0a0693ec33f2f0daadb5eb9753c78fa5308\n",
            "Successfully built box2d-py\n",
            "Installing collected packages: swig, box2d-py\n",
            "Successfully installed box2d-py-2.3.5 swig-4.3.1\n"
          ]
        }
      ],
      "source": [
        "!pip install gymnasium\n",
        "!pip install \"gymnasium[atari, accept-rom-license]\"\n",
        "!apt-get install -y swig\n",
        "!pip install gymnasium[box2d]"
      ]
    },
    {
      "cell_type": "code",
      "source": [
        "import os\n",
        "import numpy as np\n",
        "import torch\n",
        "import random\n",
        "import torch.nn as nn\n",
        "import torch.optim as optim\n",
        "import torch.nn.functional as F\n",
        "import torch.autograd as autograd\n",
        "from torch.autograd import Variable"
      ],
      "metadata": {
        "id": "XSnwCQvDvgsR"
      },
      "execution_count": 2,
      "outputs": []
    },
    {
      "cell_type": "markdown",
      "source": [
        "Setting up the environment"
      ],
      "metadata": {
        "id": "C7s0r9ADVD8I"
      }
    },
    {
      "cell_type": "code",
      "source": [
        "import gymnasium as gym\n",
        "\n",
        "env = gym.make(\"LunarLander-v3\", continuous=False, gravity=-10.0,\n",
        "               enable_wind=False, wind_power=15.0, turbulence_power=1.5)"
      ],
      "metadata": {
        "id": "Nalm-HPuQb1q"
      },
      "execution_count": 3,
      "outputs": []
    },
    {
      "cell_type": "code",
      "source": [
        "state = env.observation_space.shape\n",
        "action_size = env.action_space.n\n",
        "state_size = env.observation_space.shape[0]\n",
        "print('State shape:', state)\n",
        "print('Number of actions:',action_size)\n",
        "print('State size:',state_size)"
      ],
      "metadata": {
        "colab": {
          "base_uri": "https://localhost:8080/"
        },
        "id": "3S3QJbAkQeUe",
        "outputId": "d0665466-9957-40ee-e2a5-04b4e22032ab"
      },
      "execution_count": 4,
      "outputs": [
        {
          "output_type": "stream",
          "name": "stdout",
          "text": [
            "State shape: (8,)\n",
            "Number of actions: 4\n",
            "State size: 8\n"
          ]
        }
      ]
    },
    {
      "cell_type": "markdown",
      "source": [
        "Neural Network"
      ],
      "metadata": {
        "id": "kHUNMr81npy7"
      }
    },
    {
      "cell_type": "code",
      "source": [
        "class QNetwork(nn.Module):\n",
        "  \"\"\"Define our Neural Network\"\"\"\n",
        "\n",
        "  def __init__(self, state_size, action_size, seed=42):\n",
        "    \"\"\"Initialize the Neural Network\n",
        "    Params:\n",
        "    state_size(int): dimension of each state\n",
        "    action_size(int): dimension of each action\n",
        "    seed(int): random seed\n",
        "    \"\"\"\n",
        "    super(QNetwork, self).__init__()\n",
        "\n",
        "    self.seed = torch.manual_seed(seed)\n",
        "    self.fc1 = nn.Linear(state_size, 128)\n",
        "    self.fc2 = nn.Linear(128, 128)\n",
        "    self.fc3 = nn.Linear(128, 64)\n",
        "    self.fc4 = nn.Linear(64, action_size)\n",
        "\n",
        "  def forward(self, state):\n",
        "    \"\"\"Build a network that maps state to action values\"\"\"\n",
        "    x = F.relu(self.fc1(state))\n",
        "    x = F.relu(self.fc2(x))\n",
        "    x = F.relu(self.fc3(x))\n",
        "    return self.fc4(x)"
      ],
      "metadata": {
        "id": "ZbQo_xAsNJzt"
      },
      "execution_count": 5,
      "outputs": []
    },
    {
      "cell_type": "markdown",
      "source": [
        "Replay Memory"
      ],
      "metadata": {
        "id": "ou5WJuT1V2uK"
      }
    },
    {
      "cell_type": "code",
      "source": [
        "from collections import deque, namedtuple\n",
        "Transition = namedtuple('Transition', ('states', 'actions', 'next_states', 'rewards', 'dones'))\n",
        "\n",
        "class ReplayMemory(object):\n",
        "  \"\"\"Using experience reply memory to train model\"\"\"\n",
        "\n",
        "  def __init__(self, capacity):\n",
        "    \"\"\"Initialise the memory capacity\"\"\"\n",
        "    self.device = torch.device(\"cuda:0\" if torch.cuda.is_available() else \"cpu\")\n",
        "    self.memory = deque([], maxlen=capacity)\n",
        "\n",
        "  def push(self, experience):\n",
        "    \"\"\"Add a new experience to the memory\"\"\"\n",
        "    self.memory.append(Transition(*experience))\n",
        "\n",
        "  def sample(self, batch_size):\n",
        "    \"\"\"Sample a batch of experiences from the memory\"\"\"\n",
        "    experiences = random.sample(self.memory, batch_size)\n",
        "    states = torch.from_numpy(np.vstack([e.states for e in experiences if e is not None])).float().to(self.device)\n",
        "    actions = torch.from_numpy(np.vstack([e.actions for e in experiences if e is not None])).long().to(self.device)\n",
        "    rewards = torch.from_numpy(np.vstack([e.rewards for e in experiences if e is not None])).float().to(self.device)\n",
        "    next_states = torch.from_numpy(np.vstack([e.next_states for e in experiences if e is not None])).float().to(self.device)\n",
        "    dones = torch.from_numpy(np.vstack([e.dones for e in experiences if e is not None]).astype(np.uint8)).float().to(self.device)\n",
        "\n",
        "    return states, actions, rewards, next_states, dones\n",
        "\n",
        "  def __len__(self):\n",
        "    \"\"\"Return the current size of the memory\"\"\"\n",
        "    return len(self.memory)"
      ],
      "metadata": {
        "id": "X8dj75uLV4T7"
      },
      "execution_count": 6,
      "outputs": []
    },
    {
      "cell_type": "markdown",
      "source": [
        "Hyperparameters"
      ],
      "metadata": {
        "id": "aHQ6NA3WTOam"
      }
    },
    {
      "cell_type": "code",
      "source": [
        "learning_rate = 0.0001\n",
        "mini_batch = 150\n",
        "gamma = 0.99\n",
        "replay_buffer_size = 100000\n",
        "interpolation_parameter = 0.001"
      ],
      "metadata": {
        "id": "kdstHLujTTxV"
      },
      "execution_count": 7,
      "outputs": []
    },
    {
      "cell_type": "markdown",
      "source": [
        "Agent"
      ],
      "metadata": {
        "id": "j_ALKDxyqNzM"
      }
    },
    {
      "cell_type": "code",
      "source": [
        "class Agent():\n",
        "  \"\"\"interacts with and learns from the environment\"\"\"\n",
        "  def __init__(self, state_size, action_size):\n",
        "    \"\"\"Initialise the agent\"\"\"\n",
        "    self.device=torch.device(\"cuda:0\" if torch.cuda.is_available() else \"cpu\")\n",
        "\n",
        "    self.state_size = state_size\n",
        "    self.action_size = action_size\n",
        "\n",
        "    self.local_network = QNetwork(state_size, action_size).to(self.device)\n",
        "    self.target_network = QNetwork(state_size, action_size).to(self.device)\n",
        "\n",
        "    self.optimiser = optim.Adam(self.local_network.parameters(), lr = learning_rate, amsgrad=True)\n",
        "    self.memory = ReplayMemory(replay_buffer_size)\n",
        "\n",
        "    self.t_steps = 0\n",
        "\n",
        "  def step(self, state, action, reward, next_state, done):\n",
        "    \"\"\"Save experiences to replay memory and trigger learning\"\"\"\n",
        "    self.memory.push((state, action, reward, next_state, done))\n",
        "    self.t_steps = (self.t_steps + 1) % 5\n",
        "\n",
        "    loss = None\n",
        "\n",
        "    # Randomly sample from subset if there are enough samples in the memory\n",
        "    if len(self.memory) > mini_batch:\n",
        "      experiences = self.memory.sample(100)\n",
        "      loss = self.learn(experiences, gamma)\n",
        "    return loss\n",
        "\n",
        "  def act(self, state, epsilon=0.):\n",
        "    \"\"\"Handles exploitation vs. exploration tradeoff\"\"\"\n",
        "    sample = random.random()\n",
        "    state=torch.from_numpy(state).float().unsqueeze(0).to(self.device)\n",
        "    self.local_network.eval()\n",
        "\n",
        "    with torch.no_grad():\n",
        "      action_values = self.local_network(state)\n",
        "\n",
        "    self.local_network.train()\n",
        "\n",
        "    if sample > epsilon:\n",
        "      return np.argmax(action_values.cpu().data.numpy())  # Exploitation\n",
        "    else:\n",
        "      return random.choice(np.arange(self.action_size))\n",
        "\n",
        "  def learn(self, experiences, gamma):\n",
        "    \"\"\"Agent learns from replay memory\"\"\"\n",
        "    states, actions, next_states, rewards, dones = experiences\n",
        "\n",
        "    # Maximum predicted Q values for the enxt states\n",
        "    qtargets_next_states = self.target_network(next_states).detach().max(1)[0].unsqueeze(1)\n",
        "\n",
        "    # Q targets for current states from local model\n",
        "    q_targets = rewards + (gamma * qtargets_next_states * (1 - dones))\n",
        "\n",
        "    # Get expected Q values from local model\n",
        "    q_expected = self.local_network(states).gather(1, actions)\n",
        "\n",
        "    # Compute and minimise the loss\n",
        "    loss = F.mse_loss(q_expected, q_targets)\n",
        "    self.optimiser.zero_grad()\n",
        "    loss.backward()\n",
        "    self.optimiser.step()\n",
        "\n",
        "    # update target network\n",
        "    self.soft_update(self.local_network, self.target_network, interpolation_parameter)\n",
        "\n",
        "    return loss.item()\n",
        "\n",
        "  def soft_update(self, local_model, target_model, interpolation_param):\n",
        "    \"\"\"Soft update model parameters\"\"\"\n",
        "    for target_param,local_param in zip(target_model.parameters(),local_model.parameters()):\n",
        "      target_param.data.copy_(interpolation_parameter*local_param.data+(1.0-interpolation_parameter)*target_param.data)"
      ],
      "metadata": {
        "id": "3L73UUPlqMwz"
      },
      "execution_count": 8,
      "outputs": []
    },
    {
      "cell_type": "code",
      "source": [
        "agent = Agent(state_size, action_size)"
      ],
      "metadata": {
        "id": "rYVRmQMG5ReO"
      },
      "execution_count": 9,
      "outputs": []
    },
    {
      "cell_type": "code",
      "source": [
        "episodes_num = 1000\n",
        "max_number_timestep = 1000\n",
        "starting_epsilon = 0.7\n",
        "ending_epsilon = 0.05\n",
        "epsilon_decay_value = 0.995\n",
        "epsilon = starting_epsilon\n",
        "solved_score = deque(maxlen=50) # on 50 episodes\n",
        "\n",
        "# Store losses and rewards per epsisode\n",
        "losses = []\n",
        "rewards_per_ep = []\n",
        "\n",
        "for episode in range(1, episodes_num+1):\n",
        "  state, _ = env.reset()\n",
        "  score = 0\n",
        "  episode_losses = []\n",
        "\n",
        "  for _ in range(max_number_timestep):\n",
        "    action = agent.act(state, epsilon)\n",
        "    next_state, reward, done, _, _ = env.step(action)\n",
        "\n",
        "    loss = agent.step(state, action, reward, next_state, done)\n",
        "\n",
        "    if loss is not None:\n",
        "        episode_losses.append(loss)\n",
        "\n",
        "    state = next_state\n",
        "    score += reward\n",
        "\n",
        "    if done:\n",
        "        break\n",
        "\n",
        "  # Storing rewards and losses per episode for plotting\n",
        "  rewards_per_ep.append(score)\n",
        "  avg_loss = np.mean(episode_losses) if episode_losses else 0.0\n",
        "  losses.append(avg_loss)\n",
        "\n",
        "  solved_score.append(score)\n",
        "  avg_score = np.mean(solved_score)\n",
        "  epsilon = max(ending_epsilon, epsilon_decay_value*epsilon)\n",
        "\n",
        "  print(f'\\rEpisode {episode}\\tAverage Score: {avg_score:.2f}\\tLoss: {avg_loss:.4f}', end=\"\")\n",
        "\n",
        "  # Save the model if the environment is solved or every 50 episodes\n",
        "  if episode % 50 == 0:\n",
        "    print(f'\\rEpisode {episode}\\tAverage Score: {avg_score:.2f}\\tLoss: {avg_loss:.4f}')\n",
        "    torch.save(agent.local_network.state_dict(), f'checkpoint_{episode}.pth')\n",
        "  if episode == episodes_num:\n",
        "    print('\\nTraining complete: Environment solved or maximum episodes reached.')\n",
        "    torch.save(agent.local_network.state_dict(), 'checkpoint_final.pth')\n",
        "    break"
      ],
      "metadata": {
        "colab": {
          "base_uri": "https://localhost:8080/"
        },
        "id": "VWDXOBuXD93t",
        "outputId": "32b6f931-b963-4412-c90b-644b5072016b"
      },
      "execution_count": null,
      "outputs": [
        {
          "output_type": "stream",
          "name": "stdout",
          "text": [
            "Episode 50\tAverage Score: -184.46\tLoss: 23.8313\n",
            "Episode 100\tAverage Score: -116.39\tLoss: 16.8943\n",
            "Episode 150\tAverage Score: -40.13\tLoss: 9.3761\n",
            "Episode 200\tAverage Score: 53.48\tLoss: 8.0726\n",
            "Episode 250\tAverage Score: 149.60\tLoss: 5.2295\n",
            "Episode 300\tAverage Score: 143.22\tLoss: 6.1453\n",
            "Episode 350\tAverage Score: 206.58\tLoss: 8.8330\n",
            "Episode 400\tAverage Score: 232.47\tLoss: 10.0984\n",
            "Episode 450\tAverage Score: 232.55\tLoss: 10.7281\n",
            "Episode 500\tAverage Score: 242.35\tLoss: 12.7297\n",
            "Episode 550\tAverage Score: 234.29\tLoss: 11.9553\n",
            "Episode 600\tAverage Score: 239.87\tLoss: 12.2055\n",
            "Episode 650\tAverage Score: 251.82\tLoss: 9.6823\n",
            "Episode 700\tAverage Score: 258.34\tLoss: 9.2878\n",
            "Episode 750\tAverage Score: 266.53\tLoss: 7.0651\n",
            "Episode 800\tAverage Score: 235.57\tLoss: 7.4903\n",
            "Episode 850\tAverage Score: 222.20\tLoss: 6.5640\n",
            "Episode 900\tAverage Score: 248.33\tLoss: 10.1187\n",
            "Episode 950\tAverage Score: 262.33\tLoss: 8.5214\n",
            "Episode 1000\tAverage Score: 248.03\tLoss: 9.9483\n",
            "\n",
            "Training complete: Environment solved or maximum episodes reached.\n"
          ]
        }
      ]
    },
    {
      "cell_type": "code",
      "source": [
        "import matplotlib.pyplot as plt\n",
        "\n",
        "plt.figure(figsize=(12, 5))\n",
        "plt.subplot(1, 2, 1)\n",
        "plt.plot(rewards_per_ep)\n",
        "plt.title('Episode Rewards')\n",
        "plt.xlabel('Episode')\n",
        "plt.ylabel('Reward')\n",
        "\n",
        "plt.subplot(1, 2, 2)\n",
        "plt.plot(losses)\n",
        "plt.title('Training Loss')\n",
        "plt.xlabel('Training Step')\n",
        "plt.ylabel('Loss')\n",
        "\n",
        "plt.tight_layout()\n",
        "plt.show()"
      ],
      "metadata": {
        "colab": {
          "base_uri": "https://localhost:8080/",
          "height": 501
        },
        "id": "DV6F5C93Ldoo",
        "outputId": "ccf97187-60fe-4803-915d-db910c8d06b1"
      },
      "execution_count": null,
      "outputs": [
        {
          "output_type": "display_data",
          "data": {
            "text/plain": [
              "<Figure size 1200x500 with 2 Axes>"
            ],
            "image/png": "[encoded data removed]"
          },
          "metadata": {}
        }
      ]
    },
    {
      "cell_type": "code",
      "source": [
        "import glob\n",
        "import io\n",
        "import base64\n",
        "import imageio\n",
        "from IPython.display import HTML, display\n",
        "from gym.wrappers.monitoring.video_recorder import VideoRecorder\n",
        "\n",
        "def show_video_of_model(agent, env_name):\n",
        "    env = gym.make(env_name, render_mode='rgb_array')\n",
        "    state, _ = env.reset()\n",
        "    done = False\n",
        "    frames = []\n",
        "    while not done:\n",
        "        frame = env.render()\n",
        "        frames.append(frame)\n",
        "        action = agent.act(state)\n",
        "        state, reward, done, _, _ = env.step(action.item())\n",
        "    env.close()\n",
        "    imageio.mimsave('video.mp4', frames, fps=30)\n",
        "\n",
        "show_video_of_model(agent, 'LunarLander-v3')\n",
        "\n",
        "def show_video():\n",
        "    mp4list = glob.glob('*.mp4')\n",
        "    if len(mp4list) > 0:\n",
        "        mp4 = mp4list[0]\n",
        "        video = io.open(mp4, 'r+b').read()\n",
        "        encoded = base64.b64encode(video)\n",
        "        display(HTML(data='''<video alt=\"test\" autoplay\n",
        "                loop controls style=\"height: 400px;\">\n",
        "                <source src=\"data:video/mp4;base64,{0}\" type=\"video/mp4\" />\n",
        "             </video>'''.format(encoded.decode('ascii'))))\n",
        "    else:\n",
        "        print(\"Could not find video\")\n",
        "\n",
        "show_video()"
      ],
      "metadata": {
        "colab": {
          "base_uri": "https://localhost:8080/",
          "height": 458
        },
        "id": "WE73RpwVKdXp",
        "outputId": "b4dd42e8-d4d1-4630-ce21-f9442c143214"
      },
      "execution_count": 33,
      "outputs": [
        {
          "output_type": "stream",
          "name": "stderr",
          "text": [
            "WARNING:imageio_ffmpeg:IMAGEIO FFMPEG_WRITER WARNING: input image is not divisible by macro_block_size=16, resizing from (600, 400) to (608, 400) to ensure video compatibility with most codecs and players. To prevent resizing, make your input image divisible by the macro_block_size or set the macro_block_size to 1 (risking incompatibility).\n"
          ]
        },
        {
          "output_type": "display_data",
          "data": {
            "text/plain": [
              "<IPython.core.display.HTML object>"
            ],
            "text/html": [
              "<video alt=\"test\" autoplay\n",
              "                loop controls style=\"height: 400px;\">\n",
              "                <source src=\"data:video/mp4;base64,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\" type=\"video/mp4\" />\n",
              "             </video>"
            ]
          },
          "metadata": {}
        }
      ]
    }
  ]
}